{
  "nbformat": 4,
  "nbformat_minor": 0,
  "metadata": {
    "colab": {
      "provenance": [],
      "include_colab_link": true
    },
    "kernelspec": {
      "name": "python3",
      "display_name": "Python 3"
    },
    "language_info": {
      "name": "python"
    }
  },
  "cells": [
    {
      "cell_type": "markdown",
      "metadata": {
        "id": "view-in-github",
        "colab_type": "text"
      },
      "source": [
        "<a href=\"https://colab.research.google.com/github/saharkhsrvi/hugging-face-demo1/blob/main/Copy_of_Dandy_CV_Practical_Exercise_(2025_05_12_Sahar_Khosravi).ipynb\" target=\"_parent\"><img src=\"https://colab.research.google.com/assets/colab-badge.svg\" alt=\"Open In Colab\"/></a>"
      ]
    },
    {
      "cell_type": "markdown",
      "source": [
        "# __CV Practical Exercise__\n",
        "\n",
        "In this exercise, you are given a script that trains a simple image classification model on a generated dataset of differently colored shapes.\n",
        "\n",
        "Currently, this script does not achieve good accuracy on a validation dataset. Your task is to find ways to improve the accuracy of this model. Given the limited time, you might want to do some planning and prioritization before jumping into this exercise. Note that there are no deliberate coding bugs that were introduced; rather, the code was written by an inexperienced researcher.\n",
        "\n",
        "You may use online resources and references as needed."
      ],
      "metadata": {
        "id": "6yaEyx0QTLlI"
      }
    },
    {
      "cell_type": "markdown",
      "source": [
        "## Import definitions"
      ],
      "metadata": {
        "id": "sNDKkj3IVmnD"
      }
    },
    {
      "cell_type": "code",
      "execution_count": null,
      "metadata": {
        "id": "hUlCgsYLjXN8"
      },
      "outputs": [],
      "source": [
        "from dataclasses import dataclass\n",
        "import collections\n",
        "import json\n",
        "import multiprocessing\n",
        "import os\n",
        "import traceback\n",
        "\n",
        "import numpy as np\n",
        "from PIL import Image\n",
        "import torch\n",
        "import torch.nn as nn\n",
        "import torch.nn.functional as F\n",
        "from torch.optim import Adam\n",
        "from torch.autograd import Variable\n",
        "from torchvision import transforms\n",
        "import matplotlib.pyplot as plt\n",
        "from collections import Counter"
      ]
    },
    {
      "cell_type": "markdown",
      "source": [
        "## Data processing routines"
      ],
      "metadata": {
        "id": "YxoJDaa3VYqs"
      }
    },
    {
      "cell_type": "code",
      "source": [
        "@dataclass\n",
        "class Datapoint:\n",
        "    \"\"\"Represents one datapoint.\n",
        "    This structure is flexible enough to support both detection and segmentation.\"\"\"\n",
        "    image_id: int\n",
        "    image: np.ndarray  # (H, W, 3) dtype uint8 representing image\n",
        "    boxes: np.ndarray  # (N, 5) dtype np.int32 representing list of boxes (xmin, ymin, width, height, class)\n",
        "    mask: np.ndarray  # (H, W) dtype np.int32 representing class mask\n",
        "\n",
        "def read_dataset_categories(dataset_dir, split_name):\n",
        "    with open(f'{dataset_dir}/annotations/instances_{split_name}.json', 'r') as fi:\n",
        "        obj = json.load(fi)\n",
        "    return obj['categories']\n",
        "\n",
        "def read_dataset(dataset_dir, split_name):\n",
        "    with open(f'{dataset_dir}/annotations/instances_{split_name}.json', 'r') as fi:\n",
        "        obj = json.load(fi)\n",
        "\n",
        "    # Load annotations into an index\n",
        "    index = collections.defaultdict(list)  # map of image id to annotation\n",
        "    for annotation in obj['annotations']:\n",
        "        index[annotation['image_id']].append(annotation)\n",
        "\n",
        "    # Iterate through images\n",
        "    images_info = obj['images']\n",
        "    for i, image_info in enumerate(images_info):\n",
        "        filename = image_info['file_name']\n",
        "        annotations = index[image_info['id']]\n",
        "\n",
        "        with Image.open(os.path.join(dataset_dir, split_name, filename)) as f:\n",
        "            img = np.asarray(f)\n",
        "\n",
        "        mask = np.zeros(img.shape[:2], dtype=np.int32)\n",
        "        boxes = []\n",
        "        for annotation in annotations:\n",
        "            xmin, ymin, width, height = map(int, annotation['bbox'])\n",
        "            class_id = annotation['category_id']\n",
        "            boxes.append([xmin, ymin, width, height, class_id])\n",
        "            mask[ymin: ymin + height, xmin: xmin + width] = class_id\n",
        "\n",
        "        yield Datapoint(image_info['id'], img, boxes, mask)\n"
      ],
      "metadata": {
        "id": "mES5JKsIDFgk"
      },
      "execution_count": null,
      "outputs": []
    },
    {
      "cell_type": "code",
      "source": [
        "train_transforms = transforms.Compose([transforms.RandomHorizontalFlip(),\n",
        "                                      transforms.ColorJitter(brightness=0.1, contrast =0.1),\n",
        "                                      transforms.ToTensor(),\n",
        "                                      transforms.Normalize(mean=0.2, std=0.2),\n",
        "                                      ])\n",
        "\n",
        "val_transforms = transforms.Compose([transforms.ToTensor(),transforms.Normalize(mean=0.2, std=0.2)])"
      ],
      "metadata": {
        "id": "I_VlMtSWWYsr"
      },
      "execution_count": null,
      "outputs": []
    },
    {
      "cell_type": "markdown",
      "source": [
        "## Dataset definition"
      ],
      "metadata": {
        "id": "U71TMWTFVuTh"
      }
    },
    {
      "cell_type": "code",
      "source": [
        "class Dataset(torch.utils.data.Dataset):\n",
        "    def __init__(self, dataset_dir, split_name, transforms=None):\n",
        "        self.datapoints = list(read_dataset(dataset_dir, split_name))\n",
        "        self.transform = transforms\n",
        "\n",
        "    def __getitem__(self, idx):\n",
        "        datapoint = self.datapoints[idx]\n",
        "        img = datapoint.image.transpose(2, 0, 1).copy()  # (C, H, W)\n",
        "        target = datapoint.boxes[0][-1] - 1\n",
        "        img = torch.as_tensor(img, dtype=torch.float32)\n",
        "        target = torch.tensor(target, dtype=torch.int64)\n",
        "        return img, target\n",
        "\n",
        "    def __len__(self):\n",
        "        return len(self.datapoints)\n"
      ],
      "metadata": {
        "id": "WCiPID6yDP9E"
      },
      "execution_count": null,
      "outputs": []
    },
    {
      "cell_type": "markdown",
      "source": [
        "## Network architecture definition"
      ],
      "metadata": {
        "id": "gJxfRPQrWFaq"
      }
    },
    {
      "cell_type": "code",
      "source": [
        "class Network(nn.Module):\n",
        "    def __init__(self, height, width, num_classes):\n",
        "        super(Network, self).__init__()\n",
        "        self.conv1 = nn.Conv2d(in_channels=3, out_channels=12, kernel_size=5, stride=1, padding=1)\n",
        "        self.bn1 = nn.BatchNorm2d(12)\n",
        "        self.conv2 = nn.Conv2d(in_channels=12, out_channels=12, kernel_size=5, stride=1, padding=1)\n",
        "        self.bn2 = nn.BatchNorm2d(12)\n",
        "        self.pool = nn.MaxPool2d(2,2)\n",
        "        self.conv4 = nn.Conv2d(in_channels=12, out_channels=24, kernel_size=5, stride=1, padding=1)\n",
        "        self.bn4 = nn.BatchNorm2d(24)\n",
        "        self.conv5 = nn.Conv2d(in_channels=24, out_channels=24, kernel_size=5, stride=1, padding=1)\n",
        "        self.bn5 = nn.BatchNorm2d(24)\n",
        "        h = (height - 4) // 2 - 4\n",
        "        w = (width - 4) // 2 - 4\n",
        "        self.fc_input = 24 * h * w\n",
        "        self.fc1 = nn.Linear(self.fc_input, num_classes)\n",
        "\n",
        "    def forward(self, input):\n",
        "        output = F.relu(self.bn1(self.conv1(input)))\n",
        "        output = F.relu(self.bn2(self.conv2(output)))\n",
        "        output = self.pool(output)\n",
        "        output = F.relu(self.bn4(self.conv4(output)))\n",
        "        output = F.relu(self.bn5(self.conv5(output)))\n",
        "        output = output.view(-1, self.fc_input)\n",
        "        output = self.fc1(output)\n",
        "        return output\n"
      ],
      "metadata": {
        "id": "HYPfczCJV4YH"
      },
      "execution_count": null,
      "outputs": []
    },
    {
      "cell_type": "code",
      "source": [],
      "metadata": {
        "id": "f9do-Bm-VK_M"
      },
      "execution_count": null,
      "outputs": []
    },
    {
      "cell_type": "markdown",
      "source": [],
      "metadata": {
        "id": "mrUgtUCBVjYh"
      }
    },
    {
      "cell_type": "markdown",
      "source": [
        "## Training loop definition"
      ],
      "metadata": {
        "id": "SqxZ-fGaWLj-"
      }
    },
    {
      "cell_type": "code",
      "source": [
        "def train_model(dataset_dir, transforms):\n",
        "    dataset_train = Dataset(dataset_dir, 'train')\n",
        "    dataset_val = Dataset(dataset_dir, 'val')\n",
        "    categories = read_dataset_categories(dataset_dir, 'train')\n",
        "    num_classes = len(categories)\n",
        "    height = 100\n",
        "    width = 120\n",
        "\n",
        "    dataloader_train = torch.utils.data.DataLoader(\n",
        "        dataset_train, batch_size=10, shuffle=True, num_workers=2)\n",
        "    dataloader_val = torch.utils.data.DataLoader(\n",
        "        dataset_val, batch_size=1, shuffle=False, num_workers=2)\n",
        "\n",
        "    model = Network(height, width, num_classes)\n",
        "    loss_fn = nn.CrossEntropyLoss()\n",
        "    optimizer = Adam(model.parameters(), lr=0.001, weight_decay=0.0001)\n",
        "\n",
        "    device = torch.device(\"cuda:0\" if torch.cuda.is_available() else \"cpu\")\n",
        "    model.to(device)\n",
        "\n",
        "    num_epochs = 100\n",
        "    for epoch in range(num_epochs):\n",
        "        model.train()\n",
        "        train_loss = 0\n",
        "        for i, (images, labels) in enumerate(dataloader_train, 0):\n",
        "            images = Variable(images.to(device))\n",
        "            labels = Variable(labels.to(device))\n",
        "\n",
        "            optimizer.zero_grad()\n",
        "            outputs = model(images)\n",
        "            loss = loss_fn(outputs, labels)\n",
        "            loss.backward()\n",
        "            optimizer.step()\n",
        "\n",
        "            train_loss += loss.item()\n",
        "        train_loss /= len(dataloader_train)\n",
        "        val_acc = evaluate(model, device, dataloader_val)\n",
        "        print(f'epoch {epoch} loss: {train_loss:.4f}, val acc: {val_acc}')\n"
      ],
      "metadata": {
        "id": "8T15IuhDV6Pe"
      },
      "execution_count": null,
      "outputs": []
    },
    {
      "cell_type": "markdown",
      "source": [
        "## Evaluation function definition"
      ],
      "metadata": {
        "id": "0dDA38r5WOCw"
      }
    },
    {
      "cell_type": "code",
      "source": [
        "def evaluate(model, device, dataloader):\n",
        "    model.eval()\n",
        "    accuracy = 0.0\n",
        "    total = 0.0\n",
        "    with torch.no_grad():\n",
        "        for data in dataloader:\n",
        "            images, labels = data\n",
        "            images = images.to(device)\n",
        "            outputs = model(images)\n",
        "            _, predicted = torch.max(outputs.data, 1)\n",
        "            predicted = predicted.cpu()\n",
        "            total += labels.size(0)\n",
        "            accuracy += (predicted == labels).sum().item()\n",
        "    return accuracy / total\n"
      ],
      "metadata": {
        "id": "T69j_AQ6V7go"
      },
      "execution_count": null,
      "outputs": []
    },
    {
      "cell_type": "markdown",
      "source": [
        "## Let's train the model!\n"
      ],
      "metadata": {
        "id": "9Y6GAkFwV9M2"
      }
    },
    {
      "cell_type": "code",
      "source": [
        "dataset_dir = 'datasets/image_classification'"
      ],
      "metadata": {
        "id": "AoSnvUD9QF14"
      },
      "execution_count": null,
      "outputs": []
    },
    {
      "cell_type": "code",
      "source": [
        "datapoints = list(read_dataset('datasets/image_classification', 'train'))\n",
        "\n",
        "labels = [datapoint.boxes[0][-1] for datapoint in datapoints]\n",
        "counts = Counter(labels)\n",
        "print(\"Counts of labels: \\n\", counts)\n",
        "\n",
        "plt.bar(counts.keys(), counts.values())\n",
        "plt.xlabel(\"Class Label\")\n",
        "plt.ylabel(\"Counts\")\n",
        "plt.show()"
      ],
      "metadata": {
        "colab": {
          "base_uri": "https://localhost:8080/",
          "height": 484
        },
        "id": "TIZnLuPOYjz_",
        "outputId": "b917f6cd-f2cf-4955-aa51-0e3efb9e97f0"
      },
      "execution_count": null,
      "outputs": [
        {
          "output_type": "stream",
          "name": "stdout",
          "text": [
            "Counts of labels: \n",
            " Counter({8: 76, 9: 76, 10: 76, 4: 40, 5: 40, 6: 40, 7: 40, 1: 4, 2: 4, 3: 4})\n"
          ]
        },
        {
          "output_type": "display_data",
          "data": {
            "text/plain": [
              "<Figure size 640x480 with 1 Axes>"
            ],
            "image/png": "[encoded data removed]"
          },
          "metadata": {}
        }
      ]
    },
    {
      "cell_type": "code",
      "source": [
        "nums_samples = len(labels)\n",
        "class_weight = {cls: nums_samples/count for cls, count in counts.items()}\n",
        "sample_weight = [class_weight[label] for label in labels]\n",
        "print(\"Sample weight:\\n\", sample_weight)"
      ],
      "metadata": {
        "colab": {
          "base_uri": "https://localhost:8080/"
        },
        "id": "AjMdlEfEaRL7",
        "outputId": "c74a3362-0c72-4cca-b283-8ab2b591e183"
      },
      "execution_count": null,
      "outputs": [
        {
          "output_type": "stream",
          "name": "stdout",
          "text": [
            "Sample weight:\n",
            " [100.0, 100.0, 100.0, 10.0, 10.0, 10.0, 10.0, 5.2631578947368425, 5.2631578947368425, 5.2631578947368425, 100.0, 100.0, 100.0, 10.0, 10.0, 10.0, 10.0, 5.2631578947368425, 5.2631578947368425, 5.2631578947368425, 100.0, 100.0, 100.0, 10.0, 10.0, 10.0, 10.0, 5.2631578947368425, 5.2631578947368425, 5.2631578947368425, 100.0, 100.0, 100.0, 10.0, 10.0, 10.0, 10.0, 5.2631578947368425, 5.2631578947368425, 5.2631578947368425, 5.2631578947368425, 5.2631578947368425, 5.2631578947368425, 10.0, 10.0, 10.0, 10.0, 5.2631578947368425, 5.2631578947368425, 5.2631578947368425, 5.2631578947368425, 5.2631578947368425, 5.2631578947368425, 10.0, 10.0, 10.0, 10.0, 5.2631578947368425, 5.2631578947368425, 5.2631578947368425, 5.2631578947368425, 5.2631578947368425, 5.2631578947368425, 10.0, 10.0, 10.0, 10.0, 5.2631578947368425, 5.2631578947368425, 5.2631578947368425, 5.2631578947368425, 5.2631578947368425, 5.2631578947368425, 10.0, 10.0, 10.0, 10.0, 5.2631578947368425, 5.2631578947368425, 5.2631578947368425, 5.2631578947368425, 5.2631578947368425, 5.2631578947368425, 10.0, 10.0, 10.0, 10.0, 5.2631578947368425, 5.2631578947368425, 5.2631578947368425, 5.2631578947368425, 5.2631578947368425, 5.2631578947368425, 10.0, 10.0, 10.0, 10.0, 5.2631578947368425, 5.2631578947368425, 5.2631578947368425, 5.2631578947368425, 5.2631578947368425, 5.2631578947368425, 10.0, 10.0, 10.0, 10.0, 5.2631578947368425, 5.2631578947368425, 5.2631578947368425, 5.2631578947368425, 5.2631578947368425, 5.2631578947368425, 10.0, 10.0, 10.0, 10.0, 5.2631578947368425, 5.2631578947368425, 5.2631578947368425, 5.2631578947368425, 5.2631578947368425, 5.2631578947368425, 10.0, 10.0, 10.0, 10.0, 5.2631578947368425, 5.2631578947368425, 5.2631578947368425, 5.2631578947368425, 5.2631578947368425, 5.2631578947368425, 10.0, 10.0, 10.0, 10.0, 5.2631578947368425, 5.2631578947368425, 5.2631578947368425, 5.2631578947368425, 5.2631578947368425, 5.2631578947368425, 10.0, 10.0, 10.0, 10.0, 5.2631578947368425, 5.2631578947368425, 5.2631578947368425, 5.2631578947368425, 5.2631578947368425, 5.2631578947368425, 10.0, 10.0, 10.0, 10.0, 5.2631578947368425, 5.2631578947368425, 5.2631578947368425, 5.2631578947368425, 5.2631578947368425, 5.2631578947368425, 10.0, 10.0, 10.0, 10.0, 5.2631578947368425, 5.2631578947368425, 5.2631578947368425, 5.2631578947368425, 5.2631578947368425, 5.2631578947368425, 10.0, 10.0, 10.0, 10.0, 5.2631578947368425, 5.2631578947368425, 5.2631578947368425, 5.2631578947368425, 5.2631578947368425, 5.2631578947368425, 10.0, 10.0, 10.0, 10.0, 5.2631578947368425, 5.2631578947368425, 5.2631578947368425, 5.2631578947368425, 5.2631578947368425, 5.2631578947368425, 10.0, 10.0, 10.0, 10.0, 5.2631578947368425, 5.2631578947368425, 5.2631578947368425, 5.2631578947368425, 5.2631578947368425, 5.2631578947368425, 10.0, 10.0, 10.0, 10.0, 5.2631578947368425, 5.2631578947368425, 5.2631578947368425, 5.2631578947368425, 5.2631578947368425, 5.2631578947368425, 10.0, 10.0, 10.0, 10.0, 5.2631578947368425, 5.2631578947368425, 5.2631578947368425, 5.2631578947368425, 5.2631578947368425, 5.2631578947368425, 10.0, 10.0, 10.0, 10.0, 5.2631578947368425, 5.2631578947368425, 5.2631578947368425, 5.2631578947368425, 5.2631578947368425, 5.2631578947368425, 10.0, 10.0, 10.0, 10.0, 5.2631578947368425, 5.2631578947368425, 5.2631578947368425, 5.2631578947368425, 5.2631578947368425, 5.2631578947368425, 10.0, 10.0, 10.0, 10.0, 5.2631578947368425, 5.2631578947368425, 5.2631578947368425, 5.2631578947368425, 5.2631578947368425, 5.2631578947368425, 10.0, 10.0, 10.0, 10.0, 5.2631578947368425, 5.2631578947368425, 5.2631578947368425, 5.2631578947368425, 5.2631578947368425, 5.2631578947368425, 10.0, 10.0, 10.0, 10.0, 5.2631578947368425, 5.2631578947368425, 5.2631578947368425, 5.2631578947368425, 5.2631578947368425, 5.2631578947368425, 10.0, 10.0, 10.0, 10.0, 5.2631578947368425, 5.2631578947368425, 5.2631578947368425, 5.2631578947368425, 5.2631578947368425, 5.2631578947368425, 10.0, 10.0, 10.0, 10.0, 5.2631578947368425, 5.2631578947368425, 5.2631578947368425, 5.2631578947368425, 5.2631578947368425, 5.2631578947368425, 10.0, 10.0, 10.0, 10.0, 5.2631578947368425, 5.2631578947368425, 5.2631578947368425, 5.2631578947368425, 5.2631578947368425, 5.2631578947368425, 10.0, 10.0, 10.0, 10.0, 5.2631578947368425, 5.2631578947368425, 5.2631578947368425, 5.2631578947368425, 5.2631578947368425, 5.2631578947368425, 10.0, 10.0, 10.0, 10.0, 5.2631578947368425, 5.2631578947368425, 5.2631578947368425, 5.2631578947368425, 5.2631578947368425, 5.2631578947368425, 10.0, 10.0, 10.0, 10.0, 5.2631578947368425, 5.2631578947368425, 5.2631578947368425, 5.2631578947368425, 5.2631578947368425, 5.2631578947368425, 10.0, 10.0, 10.0, 10.0, 5.2631578947368425, 5.2631578947368425, 5.2631578947368425, 5.2631578947368425, 5.2631578947368425, 5.2631578947368425, 10.0, 10.0, 10.0, 10.0, 5.2631578947368425, 5.2631578947368425, 5.2631578947368425, 5.2631578947368425, 5.2631578947368425, 5.2631578947368425, 10.0, 10.0, 10.0, 10.0, 5.2631578947368425, 5.2631578947368425, 5.2631578947368425, 5.2631578947368425, 5.2631578947368425, 5.2631578947368425, 10.0, 10.0, 10.0, 10.0, 5.2631578947368425, 5.2631578947368425, 5.2631578947368425, 5.2631578947368425, 5.2631578947368425, 5.2631578947368425, 10.0, 10.0, 10.0, 10.0, 5.2631578947368425, 5.2631578947368425, 5.2631578947368425, 5.2631578947368425, 5.2631578947368425, 5.2631578947368425, 10.0, 10.0, 10.0, 10.0, 5.2631578947368425, 5.2631578947368425, 5.2631578947368425, 5.2631578947368425, 5.2631578947368425, 5.2631578947368425, 10.0, 10.0, 10.0, 10.0, 5.2631578947368425, 5.2631578947368425, 5.2631578947368425]\n"
          ]
        }
      ]
    },
    {
      "cell_type": "code",
      "source": [
        "from torch.utils.data import WeightedRandomSampler\n",
        "sampler = WeightedRandomSampler(weights = sample_weight, num_samples=len(sample_weight), replacement = True)\n",
        "train_loader = torch.utils.data.DataLoader(datapoints, batch_size = 32, sampler = sampler)\n"
      ],
      "metadata": {
        "id": "Wq9LEI3UajgG"
      },
      "execution_count": null,
      "outputs": []
    },
    {
      "cell_type": "code",
      "source": [
        "train_model(dataset_dir, transforms=train_transforms)"
      ],
      "metadata": {
        "colab": {
          "base_uri": "https://localhost:8080/"
        },
        "id": "Tlp3KIaFQIZO",
        "outputId": "e31f6cdc-5213-47d3-e7b6-48574cd7cd47"
      },
      "execution_count": null,
      "outputs": [
        {
          "output_type": "stream",
          "name": "stdout",
          "text": [
            "epoch 0 loss: 5.6077, val acc: 0.14\n",
            "epoch 1 loss: 3.1112, val acc: 0.48\n",
            "epoch 2 loss: 2.2976, val acc: 0.3\n",
            "epoch 3 loss: 1.9245, val acc: 0.36\n",
            "epoch 4 loss: 2.0061, val acc: 0.41\n",
            "epoch 5 loss: 1.2280, val acc: 0.42\n",
            "epoch 6 loss: 1.0257, val acc: 0.52\n",
            "epoch 7 loss: 0.8482, val acc: 0.31\n",
            "epoch 8 loss: 0.7571, val acc: 0.2\n",
            "epoch 9 loss: 1.3117, val acc: 0.35\n",
            "epoch 10 loss: 0.4040, val acc: 0.3\n",
            "epoch 11 loss: 0.7601, val acc: 0.42\n",
            "epoch 12 loss: 0.4983, val acc: 0.44\n",
            "epoch 13 loss: 0.3232, val acc: 0.41\n",
            "epoch 14 loss: 0.2570, val acc: 0.19\n",
            "epoch 15 loss: 0.1648, val acc: 0.39\n",
            "epoch 16 loss: 0.3815, val acc: 0.3\n",
            "epoch 17 loss: 0.2173, val acc: 0.37\n",
            "epoch 18 loss: 0.1537, val acc: 0.3\n",
            "epoch 19 loss: 0.0524, val acc: 0.48\n",
            "epoch 20 loss: 0.3950, val acc: 0.14\n",
            "epoch 21 loss: 0.2314, val acc: 0.41\n",
            "epoch 22 loss: 0.2792, val acc: 0.44\n",
            "epoch 23 loss: 0.0354, val acc: 0.48\n",
            "epoch 24 loss: 0.0897, val acc: 0.47\n",
            "epoch 25 loss: 0.0746, val acc: 0.48\n",
            "epoch 26 loss: 0.0245, val acc: 0.49\n",
            "epoch 27 loss: 0.0493, val acc: 0.47\n",
            "epoch 28 loss: 0.0080, val acc: 0.47\n",
            "epoch 29 loss: 0.2073, val acc: 0.38\n",
            "epoch 30 loss: 0.2390, val acc: 0.47\n",
            "epoch 31 loss: 0.0250, val acc: 0.49\n",
            "epoch 32 loss: 0.1801, val acc: 0.45\n",
            "epoch 33 loss: 0.1342, val acc: 0.36\n",
            "epoch 34 loss: 0.0912, val acc: 0.51\n",
            "epoch 35 loss: 0.2040, val acc: 0.23\n",
            "epoch 36 loss: 0.0498, val acc: 0.4\n",
            "epoch 37 loss: 0.0531, val acc: 0.41\n",
            "epoch 38 loss: 0.0301, val acc: 0.44\n",
            "epoch 39 loss: 0.0192, val acc: 0.29\n",
            "epoch 40 loss: 0.0183, val acc: 0.53\n",
            "epoch 41 loss: 0.0435, val acc: 0.47\n",
            "epoch 42 loss: 0.2844, val acc: 0.14\n",
            "epoch 43 loss: 0.5061, val acc: 0.23\n",
            "epoch 44 loss: 0.3595, val acc: 0.5\n",
            "epoch 45 loss: 0.2768, val acc: 0.45\n",
            "epoch 46 loss: 0.1037, val acc: 0.48\n",
            "epoch 47 loss: 0.1048, val acc: 0.49\n",
            "epoch 48 loss: 0.0356, val acc: 0.52\n",
            "epoch 49 loss: 0.1556, val acc: 0.31\n",
            "epoch 50 loss: 0.1387, val acc: 0.44\n",
            "epoch 51 loss: 0.0436, val acc: 0.48\n",
            "epoch 52 loss: 0.0479, val acc: 0.48\n",
            "epoch 53 loss: 0.0412, val acc: 0.5\n",
            "epoch 54 loss: 0.0401, val acc: 0.47\n",
            "epoch 55 loss: 0.0028, val acc: 0.51\n",
            "epoch 56 loss: 0.0616, val acc: 0.3\n",
            "epoch 57 loss: 0.1239, val acc: 0.34\n",
            "epoch 58 loss: 0.3623, val acc: 0.42\n",
            "epoch 59 loss: 0.1857, val acc: 0.4\n",
            "epoch 60 loss: 0.0323, val acc: 0.42\n",
            "epoch 61 loss: 0.0247, val acc: 0.46\n",
            "epoch 62 loss: 0.0162, val acc: 0.44\n",
            "epoch 63 loss: 0.0367, val acc: 0.39\n",
            "epoch 64 loss: 0.1036, val acc: 0.49\n",
            "epoch 65 loss: 0.0341, val acc: 0.48\n",
            "epoch 66 loss: 0.0568, val acc: 0.33\n",
            "epoch 67 loss: 0.0164, val acc: 0.47\n",
            "epoch 68 loss: 0.3397, val acc: 0.42\n",
            "epoch 69 loss: 0.1705, val acc: 0.44\n",
            "epoch 70 loss: 0.1152, val acc: 0.43\n",
            "epoch 71 loss: 0.1593, val acc: 0.4\n",
            "epoch 72 loss: 0.0645, val acc: 0.42\n",
            "epoch 73 loss: 0.0060, val acc: 0.45\n",
            "epoch 74 loss: 0.0118, val acc: 0.43\n",
            "epoch 75 loss: 0.0076, val acc: 0.42\n",
            "epoch 76 loss: 0.0023, val acc: 0.44\n",
            "epoch 77 loss: 0.0334, val acc: 0.44\n",
            "epoch 78 loss: 0.1492, val acc: 0.41\n",
            "epoch 79 loss: 0.0720, val acc: 0.42\n",
            "epoch 80 loss: 0.0535, val acc: 0.4\n",
            "epoch 81 loss: 0.1171, val acc: 0.44\n",
            "epoch 82 loss: 0.0430, val acc: 0.43\n",
            "epoch 83 loss: 0.0428, val acc: 0.23\n",
            "epoch 84 loss: 0.0130, val acc: 0.45\n",
            "epoch 85 loss: 0.0252, val acc: 0.43\n",
            "epoch 86 loss: 0.0413, val acc: 0.43\n",
            "epoch 87 loss: 0.0007, val acc: 0.43\n",
            "epoch 88 loss: 0.0199, val acc: 0.42\n",
            "epoch 89 loss: 0.0187, val acc: 0.28\n",
            "epoch 90 loss: 0.0174, val acc: 0.44\n",
            "epoch 91 loss: 0.0003, val acc: 0.45\n",
            "epoch 92 loss: 0.0003, val acc: 0.45\n",
            "epoch 93 loss: 0.0009, val acc: 0.45\n",
            "epoch 94 loss: 0.0001, val acc: 0.45\n",
            "epoch 95 loss: 0.0009, val acc: 0.44\n",
            "epoch 96 loss: 0.0004, val acc: 0.44\n",
            "epoch 97 loss: 0.0001, val acc: 0.45\n",
            "epoch 98 loss: 0.0017, val acc: 0.45\n",
            "epoch 99 loss: 0.0001, val acc: 0.45\n"
          ]
        }
      ]
    },
    {
      "cell_type": "markdown",
      "source": [
        "Notice that our validation accuracy is not great, even though training loss is going down. Let's see if we can improve our model performance during this session.\n",
        "\n",
        "Feel free to briefly jot down your thoughts and ideas, prioritize them and then start adjusting the code in this notebook."
      ],
      "metadata": {
        "id": "rQ4gufJtqlj1"
      }
    }
  ]
}